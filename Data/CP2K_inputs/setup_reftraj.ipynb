{
 "cells": [
  {
   "cell_type": "markdown",
   "metadata": {},
   "source": []
  },
  {
   "cell_type": "markdown",
   "id": "dcc5bae5",
   "metadata": {},
   "source": [
    "This notebook was created by [Philip Loche](https://github.com/PicoCentauri)"
   ]
  },
  {
   "cell_type": "code",
   "execution_count": 1,
   "id": "34765746-97b1-424a-a77c-bada0004fab9",
   "metadata": {},
   "outputs": [],
   "source": [
    "import os\n",
    "from os.path import basename, splitext\n",
    "from typing import List, Union\n",
    "\n",
    "import ase.io\n",
    "import numpy as np\n",
    "from ase.build import molecule\n",
    "from ase.calculators.cp2k import CP2K\n",
    "from numpy.testing import assert_allclose"
   ]
  },
  {
   "cell_type": "code",
   "execution_count": 3,
   "id": "6590230c",
   "metadata": {},
   "outputs": [],
   "source": [
    "frames = []\n",
    "frames += ase.io.read(\"sel_frames_250_32.xyz\",\":\")"
   ]
  },
  {
   "cell_type": "markdown",
   "id": "98f73c96-0a4d-4d3b-bda5-00f9259e5c75",
   "metadata": {},
   "source": [
    "# Create input"
   ]
  },
  {
   "cell_type": "code",
   "execution_count": 2,
   "id": "1fdb9351-1e29-467a-bf13-c8b0d08e9b6f",
   "metadata": {},
   "outputs": [],
   "source": [
    "def write_reftraj(fname: str, frames: Union[ase.Atoms, List[ase.Atoms]]):\n",
    "    if isinstance(frames, ase.Atoms):\n",
    "        frames = [frames]\n",
    "\n",
    "    out = \"\"\n",
    "    for i, atoms in enumerate(frames):\n",
    "        if (\n",
    "            len(atoms) != len(frames[0])\n",
    "            or atoms.get_chemical_formula() != frames[0].get_chemical_formula()\n",
    "        ):\n",
    "            raise ValueError(\n",
    "                f\"Atom symbols in frame {i},{atoms.get_chemical_formula()} are \"\n",
    "                f\"different compared to inital frame \"\n",
    "                f\"{frames[0].get_chemical_formula()}. \"\n",
    "                \"CP2K does not support changing atom types within a reftraj run!\"\n",
    "            )\n",
    "        n_atoms = len(atoms)\n",
    "        out += f\"{len(atoms):>8}\\n i = {i+1:>8}, time = {0:>12.3f}\\n\"\n",
    "        for atom in atoms:\n",
    "            pos = atom.position\n",
    "            out += f\"{atom.symbol}{pos[0]:24.15f}{pos[1]:24.15f}{pos[2]:24.15f}\\n\"\n",
    "    out += \"\\n\"\n",
    "    with open(fname, \"w\") as f:\n",
    "        f.write(out)"
   ]
  },
  {
   "cell_type": "code",
   "execution_count": 11,
   "id": "71387615-1e9d-43a8-86b3-249db82abd12",
   "metadata": {},
   "outputs": [],
   "source": [
    "def write_cellfile(fname: str, frames: Union[ase.Atoms, List[ase.Atoms]]):\n",
    "    if isinstance(frames, ase.Atoms):\n",
    "        frames = [frames]\n",
    "\n",
    "    out = \"#   Step   Time [fs]       Ax [Angstrom]       Ay [Angstrom]       Az [Angstrom]       Bx [Angstrom]       By [Angstrom]       Bz [Angstrom]       Cx [Angstrom]       Cy [Angstrom]       Cz [Angstrom]      Volume [Angstrom^3]\\n\"\n",
    "    for i, atoms in enumerate(frames):\n",
    "        out += f\"{i+1:>8}{0:>12.3f}\"\n",
    "        out += \"\".join([f\"{c:>20.10f}\" for c in atoms.cell.flatten()])\n",
    "        out += f\"{atoms.cell.volume:>25.10f}\"\n",
    "        out += \"\\n\"\n",
    "\n",
    "    with open(fname, \"w\") as f:\n",
    "        f.write(out)"
   ]
  },
  {
   "cell_type": "code",
   "execution_count": 4,
   "id": "228767aa-12de-49fd-990f-0a8c01ce2693",
   "metadata": {},
   "outputs": [],
   "source": [
    "def write_cp2k_in(fname: str, project: str, last_snapshot: int, cell: List[float]):\n",
    "    with open(\"reftraj_template.cp2k\", \"r\") as f:\n",
    "        cp2k_in = f.read()\n",
    "\n",
    "    cp2k_in = cp2k_in.replace(\"//PROJECT//\", project)\n",
    "    cp2k_in = cp2k_in.replace(\"//LAST_SNAPSHOT//\", str(last_snapshot))\n",
    "    cp2k_in = cp2k_in.replace(\"//CELL//\", \" \".join([f\"{c:.6f}\" for c in cell]))\n",
    "\n",
    "    with open(fname, \"w\") as f:\n",
    "        f.write(cp2k_in)"
   ]
  },
  {
   "cell_type": "code",
   "execution_count": 5,
   "id": "4386e38b-0ba2-4ad6-a065-d28e3a3f1f72",
   "metadata": {},
   "outputs": [],
   "source": [
    "def mkdir_force(*args, **kwargs):\n",
    "    try:\n",
    "        os.mkdir(*args, **kwargs)\n",
    "    except OSError as e:\n",
    "        pass"
   ]
  },
  {
   "cell_type": "code",
   "execution_count": 6,
   "id": "c7284aea-cbdd-47b2-bfdb-8d54816dde20",
   "metadata": {},
   "outputs": [],
   "source": [
    "project = \"NACL_v2\"\n",
    "project_directory = \"production_H2O\"\n",
    "reference_file = \"reference_structures/sel_frames_256.xyz\""
   ]
  },
  {
   "cell_type": "code",
   "execution_count": 9,
   "id": "4dd8da4c-a940-4cb8-b56f-ab3ed2f1d398",
   "metadata": {},
   "outputs": [],
   "source": [
    "frames_full = frames #ase.io.read(reference_file, \":\")\n",
    "\n",
    "frames_dict = {}\n",
    "\n",
    "for atoms in frames_full:\n",
    "    chemical_formula = atoms.get_chemical_formula()\n",
    "    try:\n",
    "        frames_dict[chemical_formula]\n",
    "    except KeyError:\n",
    "        frames_dict[chemical_formula] = []\n",
    "\n",
    "    frames_dict[chemical_formula].append(atoms)"
   ]
  },
  {
   "cell_type": "code",
   "execution_count": 12,
   "id": "6f1cb2fd-dc35-4ab9-a16c-96e1d3e75347",
   "metadata": {},
   "outputs": [],
   "source": [
    "mkdir_force(project_directory)\n",
    "\n",
    "for stoichiometry, frames in frames_dict.items():\n",
    "    current_directory = f\"{project_directory}/{stoichiometry}\"\n",
    "    mkdir_force(current_directory)\n",
    "\n",
    "    write_cp2k_in(\n",
    "        f\"{current_directory}/in.cp2k\",\n",
    "        project=project,\n",
    "        last_snapshot=len(frames),\n",
    "        cell=frames[0].cell.diagonal(),\n",
    "    )\n",
    "\n",
    "    ase.io.write(f\"{current_directory}/init.xyz\", frames[0])\n",
    "    write_reftraj(f\"{current_directory}/reftraj.xyz\", frames)\n",
    "    write_cellfile(f\"{current_directory}/reftraj.cell\", frames)"
   ]
  },
  {
   "cell_type": "markdown",
   "id": "ca8c0d9f-a7a7-4f08-b0e2-5059ff17161b",
   "metadata": {},
   "source": [
    "# Load results"
   ]
  },
  {
   "cell_type": "code",
   "execution_count": 1,
   "id": "52b5ddaa-35d7-43cf-ba06-0b9a1291cd9f",
   "metadata": {},
   "outputs": [],
   "source": [
    "cflength = 0.529177210903  # Bohr -> Å\n",
    "cfenergy = 27.211386245988  # Hartree -> eV\n",
    "cfforce = cfenergy / cflength  # Hartree/Bohr -> eV/Å"
   ]
  },
  {
   "cell_type": "code",
   "execution_count": 10,
   "id": "25d3e549-d641-4b96-85ab-da1b10bbca4b",
   "metadata": {},
   "outputs": [],
   "source": [
    "new_frames = []\n",
    "\n",
    "for stoichiometry, frames in frames_dict.items():\n",
    "    current_directory = f\"{project_directory}/{stoichiometry}\"\n",
    "\n",
    "    frames_dft = ase.io.read(f\"{current_directory}/{project}-pos-1.xyz\", \":\")\n",
    "    forces_dft = ase.io.read(f\"{current_directory}/{project}-frc-1.xyz\", \":\")\n",
    "    cell_dft = np.loadtxt(f\"{current_directory}/{project}-1.cell\")[:, 2:-1]\n",
    "\n",
    "    for i_atoms, atoms in enumerate(frames_dft):\n",
    "        frames_ref = frames[i_atoms]\n",
    "\n",
    "        # Check consistent positions\n",
    "        if not np.allclose(atoms.positions, frames_ref.positions):\n",
    "            raise ValueError(f\"Positions in frame {i_atoms} are not the same.\")\n",
    "\n",
    "        # Check consistent cell\n",
    "        if not np.allclose(frames_ref.cell.flatten(), cell_dft[i_atoms]):\n",
    "            raise ValueError(f\"Cell dimensions in frame {i_atoms} are not the same.\")\n",
    "\n",
    "        atoms.info[\"E\"] *= cfenergy\n",
    "        atoms.pbc = True\n",
    "        atoms.cell = frames_ref.cell\n",
    "        atoms.set_array(\"forces\", cfforce * forces_dft[i_atoms].positions)\n",
    "\n",
    "    new_frames += frames_dft\n",
    "\n",
    "new_fname = f\"{splitext(basename(reference_file))[0]}_dft.xyz\"\n",
    "ase.io.write(f\"{project_directory}/{new_fname}\", new_frames)"
   ]
  },
  {
   "cell_type": "code",
   "execution_count": null,
   "id": "9f521fce-5c5e-4fa4-90d1-ca2ad3e91830",
   "metadata": {},
   "outputs": [],
   "source": []
  },
  {
   "cell_type": "code",
   "execution_count": null,
   "metadata": {},
   "outputs": [],
   "source": []
  }
 ],
 "metadata": {
  "kernelspec": {
   "display_name": "Python 3 (ipykernel)",
   "language": "python",
   "name": "python3"
  },
  "language_info": {
   "codemirror_mode": {
    "name": "ipython",
    "version": 3
   },
   "file_extension": ".py",
   "mimetype": "text/x-python",
   "name": "python",
   "nbconvert_exporter": "python",
   "pygments_lexer": "ipython3",
   "version": "3.10.12"
  }
 },
 "nbformat": 4,
 "nbformat_minor": 5
}
