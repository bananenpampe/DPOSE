{
 "cells": [
  {
   "cell_type": "code",
   "execution_count": 2,
   "metadata": {},
   "outputs": [],
   "source": [
    "import numpy  as np\n",
    "import torch\n",
    "from ase.units import kB"
   ]
  },
  {
   "cell_type": "markdown",
   "metadata": {},
   "source": [
    "Read potential energies."
   ]
  },
  {
   "cell_type": "code",
   "execution_count": 3,
   "metadata": {},
   "outputs": [],
   "source": [
    "def cv(E,T):\n",
    "    E = E.flatten()\n",
    "    # eV**2 / ((eV/K) * K ** 2) -> eV/K\n",
    "    return (np.mean((E - np.mean(E))**2))/(kB*T**2)\n",
    "\n",
    "def CEA(obs, pot, T):\n",
    "\n",
    "    #assuming obs is an array of shape ( N_Prop_dim, N_samples)\n",
    "    #and pot is an array of shape ( N_samples, N_ens)\n",
    "    # T is the temperature in K\n",
    "    # returns N_ensemble weighted average obs\n",
    "\n",
    "    beta = 1/(kB*T)\n",
    "    w_obs = []\n",
    "    \n",
    "    obs_mean = np.mean(obs, axis=1) # (N, 1)\n",
    "    pot_mean = np.mean(pot, axis=1) \n",
    "\n",
    "\n",
    "    #print(obs_mean.shape)\n",
    "    #print(pot_mean.shape)\n",
    "\n",
    "    for i in range(pot.shape[-1]):\n",
    "        #print(np.mean(obs * (pot[:,i] - pot_mean),axis=1).shape)\n",
    "        #print((pot[:,i] - pot_mean).shape)\n",
    "        #print((np.mean(pot[:,i] - pot_mean)).shape)\n",
    "\n",
    "        w_obs_i = obs_mean - beta * (np.mean(obs * (pot[:,i] - pot_mean),axis=1) - obs_mean * np.mean(pot[:,i] - pot_mean))\n",
    "        w_obs.append(w_obs_i)\n",
    "\n",
    "    return w_obs \n",
    "\n",
    "\n",
    "def get_cv_from_CEA(E, T):\n",
    "    #assuming CEA is an array of shape (N_ensemble, N_Prop_dim)\n",
    "    #and T is the temperature in K\n",
    "    # returns N_ensemble weighted average cv\n",
    "\n",
    "    beta = 1/(kB*T)\n",
    "    cv = []\n",
    "\n",
    "    weighted_E = CEA(np.mean(E,axis=1).reshape(-1,1).T, E, T)\n",
    "    weighted_E_squared = CEA(np.mean(E**2,axis=1).reshape(-1,1).T, E, T)\n",
    "    #⟨𝐸2⟩−⟨𝐸⟩2\n",
    "    \n",
    "    for e_i, e_i_squared in zip(weighted_E, weighted_E_squared):\n",
    "        cv.append((e_i_squared - e_i**2)/kB*T**2)\n",
    "        \n",
    "    return cv\n"
   ]
  },
  {
   "cell_type": "code",
   "execution_count": 215,
   "metadata": {},
   "outputs": [
    {
     "name": "stdout",
     "output_type": "stream",
     "text": [
      "heat_coeff: 2.72 pm 9.10\n"
     ]
    },
    {
     "name": "stderr",
     "output_type": "stream",
     "text": [
      "/var/folders/7y/yhl65v0j5m3g8zj_xwkzq44w0000gn/T/ipykernel_9001/2708824120.py:14: DeprecationWarning: Conversion of an array with ndim > 0 to a scalar is deprecated, and will error in future. Ensure you extract a single element from your array before performing this operation. (Deprecated NumPy 1.25.)\n",
      "  heat_coeffs.append(float(cv_i))\n"
     ]
    }
   ],
   "source": [
    "Temp = 300\n",
    "N_H2O = 128\n",
    "\n",
    "\n",
    "\n",
    "U_mean = np.mean(E_POTS[Temp][N_H2O][500:],axis=1).reshape(-1,1)\n",
    "\n",
    "out_energy = np.stack(CEA(U_mean.T, E_POTS[Temp][N_H2O][500:], Temp)) # Nsamples, Ndim\n",
    "out_energy_squared = np.stack(CEA(U_mean.T**2, E_POTS[Temp][N_H2O][500:], Temp)) #Nsamples, Ndim\n",
    "\n",
    "heat_coeffs = []\n",
    "\n",
    "\n",
    "for E_i, E_i_sq in zip(out_energy, out_energy_squared):\n",
    "    cv_i = ((E_i_sq - E_i**2)/(kB*Temp**2))/(N_H2O)/kB\n",
    "    heat_coeffs.append(float(cv_i))\n",
    "\n",
    "print(\"heat_coeff: {:.2f} pm {:.2f}\".format(np.mean(heat_coeffs),np.std(heat_coeffs)))"
   ]
  }
 ],
 "metadata": {
  "kernelspec": {
   "display_name": "science",
   "language": "python",
   "name": "python3"
  },
  "language_info": {
   "codemirror_mode": {
    "name": "ipython",
    "version": 3
   },
   "file_extension": ".py",
   "mimetype": "text/x-python",
   "name": "python",
   "nbconvert_exporter": "python",
   "pygments_lexer": "ipython3",
   "version": "3.10.12"
  }
 },
 "nbformat": 4,
 "nbformat_minor": 2
}
