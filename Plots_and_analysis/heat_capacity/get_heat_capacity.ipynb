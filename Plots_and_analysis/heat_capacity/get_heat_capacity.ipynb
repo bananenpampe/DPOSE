{
 "cells": [
  {
   "cell_type": "code",
   "execution_count": 1,
   "metadata": {},
   "outputs": [],
   "source": [
    "import numpy  as np\n",
    "import torch\n",
    "from ase.units import kB"
   ]
  },
  {
   "cell_type": "markdown",
   "metadata": {},
   "source": [
    "Read potential energies."
   ]
  },
  {
   "cell_type": "code",
   "execution_count": 28,
   "metadata": {},
   "outputs": [],
   "source": [
    "def cv(E,T):\n",
    "    E = E.flatten()\n",
    "    # eV**2 / ((eV/K) * K ** 2) -> eV/K\n",
    "    return (np.mean((E - np.mean(E))**2))/(kB*T**2)\n",
    "\n",
    "def CEA(obs, pot, T):\n",
    "\n",
    "    #assuming obs is an array of shape ( N_Prop_dim, N_samples)\n",
    "    #and pot is an array of shape ( N_samples, N_ens)\n",
    "    # T is the temperature in K\n",
    "    # returns N_ensemble weighted average obs\n",
    "\n",
    "    beta = 1/(kB*T)\n",
    "    w_obs = []\n",
    "    \n",
    "    obs_mean = np.mean(obs, axis=1) # (N, 1)\n",
    "    pot_mean = np.mean(pot, axis=1) \n",
    "\n",
    "\n",
    "    #print(obs_mean.shape)\n",
    "    #print(pot_mean.shape)\n",
    "\n",
    "    for i in range(pot.shape[-1]):\n",
    "        #print(np.mean(obs * (pot[:,i] - pot_mean),axis=1).shape)\n",
    "        #print((pot[:,i] - pot_mean).shape)\n",
    "        #print((np.mean(pot[:,i] - pot_mean)).shape)\n",
    "\n",
    "        w_obs_i = obs_mean - beta * (np.mean(obs * (pot[:,i] - pot_mean),axis=1) - obs_mean * np.mean(pot[:,i] - pot_mean))\n",
    "        w_obs.append(w_obs_i)\n",
    "\n",
    "    return w_obs \n"
   ]
  },
  {
   "cell_type": "code",
   "execution_count": 29,
   "metadata": {},
   "outputs": [
    {
     "name": "stdout",
     "output_type": "stream",
     "text": [
      "heat_coeff: -0.80 pm 20.88\n"
     ]
    },
    {
     "name": "stderr",
     "output_type": "stream",
     "text": [
      "/var/folders/7y/yhl65v0j5m3g8zj_xwkzq44w0000gn/T/ipykernel_43752/2689354620.py:29: DeprecationWarning: Conversion of an array with ndim > 0 to a scalar is deprecated, and will error in future. Ensure you extract a single element from your array before performing this operation. (Deprecated NumPy 1.25.)\n",
      "  heat_coeffs.append(float(cv_i))\n"
     ]
    }
   ],
   "source": [
    "Temp = 300\n",
    "N_H2O = 256\n",
    "DROP_N = 200\n",
    "\n",
    "with open(f'../../Atomistic_experiments/trajectories_H2O/DFT_size_extensive_MD_{Temp}K/run_{N_H2O}/BPNN-H2O-md.committee_pot_0', 'r') as file:\n",
    "    lines = file.readlines()\n",
    "\n",
    "dat = []\n",
    "for line in lines[1::2]:\n",
    "    tmp = []\n",
    "    for s in line.split():\n",
    "        tmp.append(float(s))\n",
    "    dat.append(tmp)\n",
    "\n",
    "dat = np.array(dat)\n",
    "E_POTS = dat\n",
    "\n",
    "U_mean = np.mean(E_POTS[DROP_N:],axis=1).reshape(-1,1)\n",
    "\n",
    "#reweighting\n",
    "out_energy = np.stack(CEA(U_mean.T, E_POTS[DROP_N:], Temp)) # Nsamples, Ndim\n",
    "out_energy_squared = np.stack(CEA(U_mean.T**2, E_POTS[DROP_N:], Temp)) #Nsamples, Ndim\n",
    "\n",
    "heat_coeffs = []\n",
    "\n",
    "\n",
    "for E_i, E_i_sq in zip(out_energy, out_energy_squared):\n",
    "    cv_i = ((E_i_sq - E_i**2)/(kB*Temp**2))/(N_H2O)/kB  + 9/2\n",
    "    heat_coeffs.append(float(cv_i))\n",
    "\n",
    "print(\"heat_coeff: {:.2f} pm {:.2f}\".format(np.mean(heat_coeffs),np.std(heat_coeffs)))"
   ]
  },
  {
   "cell_type": "code",
   "execution_count": 30,
   "metadata": {},
   "outputs": [
    {
     "name": "stdout",
     "output_type": "stream",
     "text": [
      "14.641328236871388\n",
      "0.47356687226161515\n"
     ]
    }
   ],
   "source": [
    "heat_cap_sampling = []\n",
    "\n",
    "for block_i in E_POTS.T:\n",
    "        heat_cap_sampling.append((cv(block_i[DROP_N:],Temp)/N_H2O)/kB)\n",
    "\n",
    "print(np.mean(heat_cap_sampling) + 9/2)\n",
    "print(np.std(heat_cap_sampling))"
   ]
  },
  {
   "cell_type": "code",
   "execution_count": null,
   "metadata": {},
   "outputs": [],
   "source": []
  }
 ],
 "metadata": {
  "kernelspec": {
   "display_name": "science",
   "language": "python",
   "name": "python3"
  },
  "language_info": {
   "codemirror_mode": {
    "name": "ipython",
    "version": 3
   },
   "file_extension": ".py",
   "mimetype": "text/x-python",
   "name": "python",
   "nbconvert_exporter": "python",
   "pygments_lexer": "ipython3",
   "version": "3.10.12"
  }
 },
 "nbformat": 4,
 "nbformat_minor": 2
}
