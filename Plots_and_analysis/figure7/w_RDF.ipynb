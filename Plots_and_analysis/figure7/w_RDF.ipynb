{
 "cells": [
  {
   "cell_type": "code",
   "execution_count": 18,
   "metadata": {},
   "outputs": [],
   "source": [
    "import numpy as np\n",
    "import matplotlib.pyplot as plt\n",
    "from ase.units import kB\n",
    "\n",
    "import matplotlib.pyplot as plt\n",
    "import MDAnalysis as mda\n",
    "\n",
    "import numpy as np\n",
    "from MDAnalysis.analysis.base import Results\n",
    "from MDAnalysis.analysis.rdf import InterRDF\n",
    "from MDAnalysis.transformations.boxdimensions import set_dimensions\n",
    "\n",
    "\n",
    "import ase.io\n",
    "from tqdm.auto import tqdm\n",
    "import pandas as pd"
   ]
  },
  {
   "cell_type": "code",
   "execution_count": 19,
   "metadata": {},
   "outputs": [
    {
     "data": {
      "text/plain": [
       "'2.2.0'"
      ]
     },
     "execution_count": 19,
     "metadata": {},
     "output_type": "execute_result"
    }
   ],
   "source": [
    "#keep mda version '2.2.0'\n",
    "mda.__version__"
   ]
  },
  {
   "cell_type": "code",
   "execution_count": 20,
   "metadata": {},
   "outputs": [],
   "source": [
    "# !!!!!!!!!!!!!!!!!!!!!!!!!!!!!!\n",
    "# requires to unzip the .zip archive with the trajectories.\n",
    "# Have you unzipped the archive?"
   ]
  },
  {
   "cell_type": "code",
   "execution_count": 21,
   "metadata": {},
   "outputs": [],
   "source": [
    "def CEA(obs, pot, T):\n",
    "    #assuming obs is an array of shape (N_samples, N_Prop_dim)\n",
    "    #and pot is an array of shape (N_samples, N_ensemble)\n",
    "    # T is the temperature in K\n",
    "    # returns N_ensemble weighted average obs\n",
    "\n",
    "    beta = 1/(kB*T)\n",
    "    w_obs = []\n",
    "    obs_mean = np.mean(obs, axis=1)\n",
    "    pot_mean = np.mean(pot, axis=1)\n",
    "\n",
    "    #print(obs_mean.shape)\n",
    "    #print(pot_mean.shape)\n",
    "\n",
    "    for i in range(pot.shape[-1]):\n",
    "        #print(np.mean(obs * (pot[:,i] - pot_mean),axis=1).shape)\n",
    "        w_obs_i = obs_mean - beta * (np.mean(obs * (pot[:,i] - pot_mean),axis=1) - obs_mean * np.mean(pot[:,i] - pot_mean))\n",
    "        w_obs.append(w_obs_i)\n",
    "\n",
    "    return w_obs   "
   ]
  },
  {
   "cell_type": "code",
   "execution_count": 22,
   "metadata": {},
   "outputs": [
    {
     "name": "stdout",
     "output_type": "stream",
     "text": [
      "[Atoms(symbols='H128O64', pbc=True, cell=[12.417201000000016, 12.417201000000016, 12.417201000000016], atomtypes=..., bfactor=..., forces=..., residuenames=..., residuenumbers=..., calculator=SinglePointCalculator(...))]\n",
      "500\n"
     ]
    },
    {
     "name": "stderr",
     "output_type": "stream",
     "text": [
      "100%|██████████| 20001/20001 [48:59<00:00,  6.80it/s] \n"
     ]
    }
   ],
   "source": [
    "N_H2O = 64\n",
    "\n",
    "identifier = f\"../../Atomistic_experiments/trajectories_H2O/DFT_size_extensive_MD_300K/run_{N_H2O}\"\n",
    "\n",
    "#start = ase.io.read(\"../../data/trajectories_H2O/DFT_size_extensive_MD_300K/run_64/start_64.xyz\",\":\")\n",
    "start = ase.io.read(f\"../../Atomistic_experiments/trajectories_H2O/DFT_size_extensive_MD_300K/start_{N_H2O}.xyz\",\":\")\n",
    "\n",
    "print(start)\n",
    "\n",
    "universe_params = dict(format=\"Chemfiles\", topology_format=\"XYZ\", guess_bonds=True)\n",
    "\n",
    "results = Results()\n",
    "results.ml = Results()\n",
    "#results.ml.u = mda.Universe(\"../../data/trajectories_H2O/DFT_size_extensive_MD_300K/run_64/BPNN-H2O-md.xc.xyz\", **universe_params)\n",
    "results.ml.u = mda.Universe(f\"{identifier}/BPNN-H2O-md.xc.xyz\", **universe_params)\n",
    "results.ml.u.trajectory.add_transformations(\n",
    "    set_dimensions(start[0].get_cell_lengths_and_angles())\n",
    ")\n",
    "\n",
    "STEP = 1\n",
    "INT = int(1/STEP * 500)\n",
    "\n",
    "print(INT)\n",
    "\n",
    "results.ml.start = 0\n",
    "results.ml.stop = -1\n",
    "\n",
    "params = {\"nbins\": 200, \"range\": (0, 6)}\n",
    "\n",
    "int_rdf_OO = []\n",
    "int_rdf_HH = []\n",
    "\n",
    "O = results.ml.u.select_atoms(\"name O*\")\n",
    "H = results.ml.u.select_atoms(\"name H*\")\n",
    "rdf_OO = InterRDF(O, O, **params, exclude_same=\"residue\")\n",
    "rdf_HH = InterRDF(H, H, **params, exclude_same=\"residue\")\n",
    "\n",
    "for ts in tqdm(range(0,len(results.ml.u.trajectory),STEP)):\n",
    "    \n",
    "    rdf_OO.run(start=ts, stop=ts+1,step=1)\n",
    "    rdf_HH.run(start=ts, stop=ts+1,step=1)\n",
    "    int_rdf_HH.append((rdf_HH.bins, rdf_HH.rdf))    \n",
    "    int_rdf_OO.append((rdf_OO.bins, rdf_OO.rdf))\n",
    "\n",
    "with open(f'{identifier}/BPNN-H2O-md.committee_pot_0', 'r') as file:\n",
    "    lines = file.readlines()\n",
    "\n",
    "dat = []\n",
    "for line in lines[1::2]:\n",
    "    tmp = []\n",
    "    for s in line.split():\n",
    "        tmp.append(float(s))\n",
    "    dat.append(tmp)\n",
    "\n",
    "dat = np.array(dat[::STEP])\n",
    "\n",
    "E_mean = np.mean(dat, axis=1)\n",
    "E_UQ = np.std(dat, axis=1)\n",
    "\n",
    "\n",
    "int_rdfmat = np.hstack([x[1][:,np.newaxis] for x in int_rdf_HH])\n",
    "w_obs = CEA(int_rdfmat[:,INT:], dat[INT:,:], 300)\n",
    "\n",
    "mean_rdf = np.mean(w_obs,axis=0)\n",
    "std_rdf = np.std(w_obs,axis=0)\n",
    "\n",
    "np.save(f\"CEA_{N_H2O}H2O_1ns_mean_HH.npy\", mean_rdf)\n",
    "np.save(f\"CEA_{N_H2O}H2O_1ns_std_HH.npy\", std_rdf)\n",
    "\n",
    "int_rdfmat = np.hstack([x[1][:,np.newaxis] for x in int_rdf_OO])\n",
    "w_obs = CEA(int_rdfmat[:,INT:], dat[INT:,:], 300)\n",
    "\n",
    "mean_rdf = np.mean(w_obs,axis=0)\n",
    "std_rdf = np.std(w_obs,axis=0)\n",
    "\n",
    "np.save(f\"CEA_{N_H2O}H2O_1ns_mean_OO.npy\", mean_rdf)\n",
    "np.save(f\"CEA_{N_H2O}H2O_1ns_std_OO.npy\", std_rdf)\n",
    "np.save(f\"gridRDF_{N_H2O}H2O_1ns.npy\", int_rdf_OO[0][0])\n"
   ]
  },
  {
   "cell_type": "code",
   "execution_count": 23,
   "metadata": {},
   "outputs": [
    {
     "name": "stdout",
     "output_type": "stream",
     "text": [
      "500\n"
     ]
    },
    {
     "name": "stderr",
     "output_type": "stream",
     "text": [
      "100%|██████████| 6424/6424 [19:50<00:00,  5.40it/s]\n"
     ]
    }
   ],
   "source": [
    "N_H2O = 256\n",
    "\n",
    "identifier = f\"../../Atomistic_experiments/trajectories_H2O/DFT_size_extensive_MD_300K/run_{N_H2O}\"\n",
    "\n",
    "#start = ase.io.read(\"../../data/trajectories_H2O/DFT_size_extensive_MD_300K/run_64/start_64.xyz\",\":\")\n",
    "try:\n",
    "    start = ase.io.read(f\"{identifier}/start.xyz\",\":\")\n",
    "except:\n",
    "    start = ase.io.read(f\"{identifier}/start_{N_H2O}.xyz\",\":\")\n",
    "\n",
    "\n",
    "universe_params = dict(format=\"CHEMFILES\", topology_format=\"XYZ\", guess_bonds=True)\n",
    "\n",
    "results = Results()\n",
    "results.ml = Results()\n",
    "#results.ml.u = mda.Universe(\"../../data/trajectories_H2O/DFT_size_extensive_MD_300K/run_64/BPNN-H2O-md.xc.xyz\", **universe_params)\n",
    "results.ml.u = mda.Universe(f\"{identifier}/BPNN-H2O-md.xc.xyz\", **universe_params)\n",
    "results.ml.u.trajectory.add_transformations(\n",
    "    set_dimensions(start[0].get_cell_lengths_and_angles())\n",
    ")\n",
    "STEP = 1\n",
    "INT = int(1/STEP * 500)\n",
    "\n",
    "print(INT)\n",
    "\n",
    "results.ml.start = 0\n",
    "results.ml.stop = -1\n",
    "\n",
    "params = {\"nbins\": 200, \"range\": (0, 6)}\n",
    "\n",
    "int_rdf_OO = []\n",
    "int_rdf_HH = []\n",
    "\n",
    "O = results.ml.u.select_atoms(\"name O*\")\n",
    "H = results.ml.u.select_atoms(\"name H*\")\n",
    "rdf_OO = InterRDF(O, O, **params, exclude_same=\"residue\")\n",
    "rdf_HH = InterRDF(H, H, **params, exclude_same=\"residue\")\n",
    "\n",
    "for ts in tqdm(range(0,len(results.ml.u.trajectory),STEP)):\n",
    "    \n",
    "    rdf_OO.run(start=ts, stop=ts+1,step=1)\n",
    "    rdf_HH.run(start=ts, stop=ts+1,step=1)\n",
    "    int_rdf_HH.append((rdf_HH.bins, rdf_HH.rdf))    \n",
    "    int_rdf_OO.append((rdf_OO.bins, rdf_OO.rdf))\n",
    "\n",
    "with open(f'{identifier}/BPNN-H2O-md.committee_pot_0', 'r') as file:\n",
    "    lines = file.readlines()\n",
    "\n",
    "dat = []\n",
    "for line in lines[1::2]:\n",
    "    tmp = []\n",
    "    for s in line.split():\n",
    "        tmp.append(float(s))\n",
    "    dat.append(tmp)\n",
    "\n",
    "dat = np.array(dat[::STEP])\n",
    "\n",
    "E_mean = np.mean(dat, axis=1)\n",
    "E_UQ = np.std(dat, axis=1)\n",
    "\n",
    "\n",
    "int_rdfmat = np.hstack([x[1][:,np.newaxis] for x in int_rdf_HH])\n",
    "w_obs = CEA(int_rdfmat[:,INT:], dat[INT:,:], 300)\n",
    "\n",
    "mean_rdf = np.mean(w_obs,axis=0)\n",
    "std_rdf = np.std(w_obs,axis=0)\n",
    "\n",
    "np.save(f\"CEA_{N_H2O}H2O_1ns_mean_HH.npy\", mean_rdf)\n",
    "np.save(f\"CEA_{N_H2O}H2O_1ns_std_HH.npy\", std_rdf)\n",
    "np.save(f\"CEA_{N_H2O}int_rdf_HH.npy\", int_rdfmat)\n",
    "\n",
    "int_rdfmat = np.hstack([x[1][:,np.newaxis] for x in int_rdf_OO])\n",
    "w_obs = CEA(int_rdfmat[:,INT:], dat[INT:,:], 300)\n",
    "\n",
    "mean_rdf = np.mean(w_obs,axis=0)\n",
    "std_rdf = np.std(w_obs,axis=0)\n",
    "\n",
    "np.save(f\"CEA_{N_H2O}H2O_1ns_mean_OO.npy\", mean_rdf)\n",
    "np.save(f\"CEA_{N_H2O}H2O_1ns_std_OO.npy\", std_rdf)\n",
    "np.save(f\"gridRDF_{N_H2O}H2O_1ns.npy\", int_rdf_OO[0][0])\n",
    "np.save(f\"CEA_{N_H2O}int_rdf_OO.npy\", int_rdfmat)\n"
   ]
  },
  {
   "cell_type": "code",
   "execution_count": null,
   "metadata": {},
   "outputs": [],
   "source": []
  }
 ],
 "metadata": {
  "kernelspec": {
   "display_name": "science",
   "language": "python",
   "name": "python3"
  },
  "language_info": {
   "codemirror_mode": {
    "name": "ipython",
    "version": 3
   },
   "file_extension": ".py",
   "mimetype": "text/x-python",
   "name": "python",
   "nbconvert_exporter": "python",
   "pygments_lexer": "ipython3",
   "version": "3.10.12"
  }
 },
 "nbformat": 4,
 "nbformat_minor": 2
}
